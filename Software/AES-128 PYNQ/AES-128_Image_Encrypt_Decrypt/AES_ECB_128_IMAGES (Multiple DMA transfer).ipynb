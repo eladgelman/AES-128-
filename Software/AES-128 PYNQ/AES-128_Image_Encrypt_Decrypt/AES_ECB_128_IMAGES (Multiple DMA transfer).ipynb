{
 "cells": [
  {
   "cell_type": "markdown",
   "id": "5d081d9b",
   "metadata": {},
   "source": [
    "<h1>AES-128 images encrypt and decrypt base on multiple DMA transfers </h1>"
   ]
  },
  {
   "cell_type": "code",
   "execution_count": null,
   "id": "b0cda92e",
   "metadata": {},
   "outputs": [
    {
     "data": {
      "application/vnd.jupyter.widget-view+json": {
       "model_id": "ad7bdbf255e04d949518fe690965b392",
       "version_major": 2,
       "version_minor": 0
      },
      "text/plain": [
       "FileUpload(value={}, accept='.jpg, .jpeg', description='Upload')"
      ]
     },
     "metadata": {},
     "output_type": "display_data"
    },
    {
     "data": {
      "application/vnd.jupyter.widget-view+json": {
       "model_id": "78575d765f09454495ae49a0361f5566",
       "version_major": 2,
       "version_minor": 0
      },
      "text/plain": [
       "Output()"
      ]
     },
     "metadata": {},
     "output_type": "display_data"
    },
    {
     "data": {
      "application/vnd.jupyter.widget-view+json": {
       "model_id": "92d7ef68b76a4c2bb836543dd7cee290",
       "version_major": 2,
       "version_minor": 0
      },
      "text/plain": [
       "Output()"
      ]
     },
     "metadata": {},
     "output_type": "display_data"
    },
    {
     "data": {
      "application/vnd.jupyter.widget-view+json": {
       "model_id": "f055ccb67e2246aa9f656089a0ec670f",
       "version_major": 2,
       "version_minor": 0
      },
      "text/plain": [
       "Output()"
      ]
     },
     "metadata": {},
     "output_type": "display_data"
    },
    {
     "data": {
      "application/vnd.jupyter.widget-view+json": {
       "model_id": "491b97e3d3824b3fa834d01f6cbe94f9",
       "version_major": 2,
       "version_minor": 0
      },
      "text/plain": [
       "Output()"
      ]
     },
     "metadata": {},
     "output_type": "display_data"
    }
   ],
   "source": [
    "import ipywidgets as widgets\n",
    "from IPython.display import display, FileLink\n",
    "from PIL import Image as PILImage\n",
    "import io\n",
    "import numpy as np\n",
    "from pynq import allocate, Overlay\n",
    "\n",
    "# Key variable (16 bytes)\n",
    "key = \"000102030405060708090a0b0c0d0e0f\"\n",
    "key_bytes = bytes.fromhex(key)\n",
    "\n",
    "# Create file upload widget\n",
    "file_upload = widgets.FileUpload(\n",
    "    accept= '.jpg, .jpeg',  # Accept only certain file types\n",
    "    multiple=False  # Allow only one file to be uploaded\n",
    ")\n",
    "\n",
    "# Create output widgets\n",
    "output_widget = widgets.Output()\n",
    "download_link_img = widgets.Output()\n",
    "download_link_byte_map = widgets.Output()\n",
    "download_link_buffer_txt = widgets.Output()\n",
    "\n",
    "# Load the overlay\n",
    "ol = Overlay(\"/home/xilinx/jupyter_notebooks/AES-128_Image_Encrypt_Decrypt/overlays/AES_ECB_128_design.bit\") \n",
    "\n",
    "def image_to_byte_map(img):\n",
    "    \"\"\"Converts PIL image to a byte map (hexadecimal representation).\"\"\"\n",
    "    img_bytes = img.tobytes()\n",
    "    byte_map_str = ' '.join([format(byte, '02x') for byte in img_bytes])\n",
    "    return byte_map_str\n",
    "\n",
    "def get_image_details(img):\n",
    "    \"\"\"Returns size of image in pixels and bytes, and color mode.\"\"\"\n",
    "    size = img.size\n",
    "    mode = img.mode\n",
    "    img_bytes = len(img.tobytes())\n",
    "    return size, mode, img_bytes\n",
    "\n",
    "def adjust_buffer_length(buffer, alignment=16):\n",
    "    \"\"\"Adjusts buffer length to be a multiple of alignment bytes.\"\"\"\n",
    "    current_length = len(buffer)\n",
    "    new_length = (current_length + alignment - 1) // alignment * alignment  # Round up to the nearest multiple of alignment\n",
    "    if new_length > current_length:\n",
    "        buffer = np.concatenate((buffer, np.zeros(new_length - current_length, dtype=np.uint8)))\n",
    "    return buffer, new_length\n",
    "\n",
    "def save_image(img, filename):\n",
    "    \"\"\"Save PIL image to file.\"\"\"\n",
    "    img.save(filename)\n",
    "\n",
    "def save_byte_map(byte_map_str, filename):\n",
    "    \"\"\"Save byte map data to text file.\"\"\"\n",
    "    with open(filename, 'w') as f:\n",
    "        f.write(byte_map_str)\n",
    "\n",
    "def save_buffer_txt(buffer_data, filename):\n",
    "    \"\"\"Save buffer data to text file.\"\"\"\n",
    "    with open(filename, 'w') as f:\n",
    "        byte_list = ' '.join([format(byte, '02x') for byte in buffer_data])\n",
    "        f.write(byte_list)\n",
    "\n",
    "def on_file_upload(change):\n",
    "    with output_widget:\n",
    "        output_widget.clear_output()\n",
    "        download_link_img.clear_output()\n",
    "        download_link_byte_map.clear_output()\n",
    "        download_link_buffer_txt.clear_output()\n",
    "        \n",
    "        # Get uploaded file\n",
    "        uploaded_filename = next(iter(file_upload.value))\n",
    "        content = file_upload.value[uploaded_filename]['content']\n",
    "        \n",
    "        # Load image from content\n",
    "        img = PILImage.open(io.BytesIO(content))\n",
    "        \n",
    "        # Get image details\n",
    "        size, mode, img_bytes = get_image_details(img)\n",
    "        \n",
    "        # Print image details\n",
    "        print(f\"Image size: {size[0]} x {size[1]} pixels\")\n",
    "        print(f\"Image size in bytes: {img_bytes} bytes\")\n",
    "        print(f\"Color mode: {mode}\")\n",
    "        \n",
    "        # Convert image to byte map\n",
    "        byte_map_str = image_to_byte_map(img)\n",
    "        \n",
    "        # Save byte map to a text file\n",
    "        txt_filename = uploaded_filename.replace('.', '_') + '_byte_map.txt'\n",
    "        save_byte_map(byte_map_str, txt_filename)\n",
    "        \n",
    "        # Display download link for byte map\n",
    "        with download_link_byte_map:\n",
    "            display(FileLink(txt_filename, result_html_prefix=\"Download Byte Map: \"))\n",
    "        \n",
    "        # Allocate input buffer and move data\n",
    "        byte_list = [int(byte, 16) for byte in byte_map_str.split()]\n",
    "        total_size_in_bytes = len(byte_list)\n",
    "        \n",
    "        # Calculate number of chunks\n",
    "        chunk_size = 0x4000  # 16,384 bytes\n",
    "        num_chunks = (total_size_in_bytes + chunk_size - 1) // chunk_size\n",
    "        \n",
    "        # Create final output buffer\n",
    "        output_buffer_final = allocate(shape=(total_size_in_bytes,), dtype=np.uint8)\n",
    "        \n",
    "        # DMA transfer\n",
    "        dma = ol.axi_dma_0\n",
    "        dma_send = dma.sendchannel\n",
    "        dma_recv = dma.recvchannel\n",
    "        \n",
    "        for i in range(num_chunks):\n",
    "            # Calculate start and end indices for the current chunk\n",
    "            start_idx = i * chunk_size\n",
    "            end_idx = min(start_idx + chunk_size, total_size_in_bytes)\n",
    "            \n",
    "            # Prepare input buffer for the current chunk\n",
    "            chunk_data = byte_list[start_idx:end_idx]\n",
    "            input_buffer = allocate(shape=(len(chunk_data) + len(key_bytes),), dtype=np.uint8)\n",
    "            \n",
    "            # Add key to the input buffer\n",
    "            input_buffer[:len(key_bytes)] = np.frombuffer(key_bytes, dtype=np.uint8)\n",
    "            \n",
    "            # Add chunk data to the input buffer\n",
    "            input_buffer[len(key_bytes):] = np.array(chunk_data, dtype=np.uint8)\n",
    "            \n",
    "            # Adjust input buffer length to be a multiple of 16 bytes\n",
    "            input_buffer, new_length = adjust_buffer_length(input_buffer)\n",
    "            \n",
    "            # Allocate output buffer for the current chunk\n",
    "            output_buffer = allocate(shape=(new_length - len(key_bytes),), dtype=np.uint8)\n",
    "            \n",
    "            # Perform DMA transfer for the current chunk\n",
    "            dma_send.transfer(input_buffer)\n",
    "            dma_recv.transfer(output_buffer)\n",
    "            dma_send.wait()\n",
    "            dma_recv.wait()\n",
    "            \n",
    "            # Copy the output buffer to the final output buffer\n",
    "            output_buffer_final[start_idx:end_idx] = output_buffer[:end_idx - start_idx]\n",
    "            \n",
    "            # Free the input and output buffers for the current chunk\n",
    "            input_buffer.freebuffer()\n",
    "            output_buffer.freebuffer()\n",
    "\n",
    "        # Convert output_buffer_final back to image\n",
    "        output_img = PILImage.frombytes(mode, size, bytes(output_buffer_final))\n",
    "        \n",
    "        # Display processed image\n",
    "        display(output_img)\n",
    "        \n",
    "        # Save processed image\n",
    "        processed_img_filename = uploaded_filename.replace('.', '_') + '_processed.png'\n",
    "        save_image(output_img, processed_img_filename)\n",
    "        \n",
    "        # Display download link for processed image\n",
    "        with download_link_img:\n",
    "            display(FileLink(processed_img_filename, result_html_prefix=\"Download Processed Image: \"))\n",
    "\n",
    "        # Save output buffer data to text file\n",
    "        buffer_txt_filename = uploaded_filename.replace('.', '_') + '_output_buffer.txt'\n",
    "        save_buffer_txt(bytes(output_buffer_final), buffer_txt_filename)\n",
    "\n",
    "        # Display download link for output buffer text file\n",
    "        with download_link_buffer_txt:\n",
    "            display(FileLink(buffer_txt_filename, result_html_prefix=\"Download Output Buffer Text: \"))\n",
    "        \n",
    "        # Free the final output buffer\n",
    "        output_buffer_final.freebuffer()\n",
    "\n",
    "# Attach file upload handler\n",
    "file_upload.observe(on_file_upload, names='value')\n",
    "\n",
    "# Display widgets\n",
    "display(file_upload, output_widget, download_link_img, download_link_byte_map, download_link_buffer_txt)\n"
   ]
  },
  {
   "cell_type": "code",
   "execution_count": null,
   "id": "2ba9d881",
   "metadata": {},
   "outputs": [
    {
     "data": {
      "application/vnd.jupyter.widget-view+json": {
       "model_id": "f7ac5d67037f4eefa4ce2b74dff80775",
       "version_major": 2,
       "version_minor": 0
      },
      "text/plain": [
       "FileUpload(value={}, accept='.txt', description='Upload')"
      ]
     },
     "metadata": {},
     "output_type": "display_data"
    },
    {
     "name": "stdout",
     "output_type": "stream",
     "text": [
      "Uploaded file size in bytes: 49152\n"
     ]
    },
    {
     "data": {
      "image/png": "[encoded data removed]",
      "text/plain": [
       "<PIL.Image.Image image mode=RGB size=128x128 at 0xA980F778>"
      ]
     },
     "metadata": {},
     "output_type": "display_data"
    }
   ],
   "source": [
    "import ipywidgets as widgets\n",
    "from IPython.display import display\n",
    "from PIL import Image as PILImage\n",
    "import numpy as np\n",
    "from pynq import allocate, Overlay\n",
    "\n",
    "# Key variable (16 bytes)\n",
    "key = \"000102030405060708090a0b0c0d0e0f\"\n",
    "key_bytes = bytes.fromhex(key)\n",
    "\n",
    "# Load the overlay (adjust path as per your setup)\n",
    "overlay = Overlay(\"/home/xilinx/jupyter_notebooks/AES-128_Image_Encrypt_Decrypt/overlays/AES_ECB_128_design.bit\")\n",
    "\n",
    "# DMA channels\n",
    "dma = overlay.axi_dma_0\n",
    "dma_send = dma.sendchannel\n",
    "dma_recv = dma.recvchannel\n",
    "\n",
    "# Create file upload widget\n",
    "file_upload = widgets.FileUpload(\n",
    "    accept='.txt',  # Accept only certain file types\n",
    "    multiple=False  # Allow only one file to be uploaded\n",
    ")\n",
    "\n",
    "def handle_upload(change):\n",
    "    file_name, file_info = next(iter(file_upload.value.items()))\n",
    "    content = file_info['content'].decode('utf-8').replace(' ', '').strip()  # Remove spaces and decode\n",
    "    \n",
    "    # Convert hex string to bytes\n",
    "    byte_list = bytes.fromhex(content)\n",
    "    \n",
    "    # Step 1: Calculate the number of bytes in the uploaded file\n",
    "    file_size = len(byte_list)\n",
    "    print(f\"Uploaded file size in bytes: {file_size}\")\n",
    "\n",
    "    # Step 2: Determine the number of chunks based on max packet size\n",
    "    max_packet_size = 0x4000  # 16,384 bytes\n",
    "    num_chunks = (file_size + max_packet_size - 1) // max_packet_size\n",
    "    \n",
    "    # Step 3: Create final output buffer\n",
    "    output_buffer_final = allocate(shape=(file_size,), dtype=np.uint8)\n",
    "    \n",
    "    for i in range(num_chunks):\n",
    "        # Calculate start and end indices for the current chunk\n",
    "        start_idx = i * max_packet_size\n",
    "        end_idx = min(start_idx + max_packet_size, file_size)\n",
    "        \n",
    "        # Prepare input buffer for the current chunk\n",
    "        chunk_data = byte_list[start_idx:end_idx]\n",
    "        input_buffer = allocate(shape=(len(chunk_data) + len(key_bytes),), dtype=np.uint8)\n",
    "        \n",
    "        # Add key to the input buffer\n",
    "        input_buffer[:len(key_bytes)] = np.frombuffer(key_bytes, dtype=np.uint8)\n",
    "        \n",
    "        # Add chunk data to the input buffer\n",
    "        input_buffer[len(key_bytes):] = np.frombuffer(chunk_data, dtype=np.uint8)\n",
    "        \n",
    "        # Allocate output buffer for the current chunk\n",
    "        output_buffer = allocate(shape=(len(chunk_data),), dtype=np.uint8)\n",
    "        \n",
    "        # Perform DMA transfer for the current chunk\n",
    "        dma_send.transfer(input_buffer)\n",
    "        dma_recv.transfer(output_buffer)\n",
    "        dma_send.wait()\n",
    "        dma_recv.wait()\n",
    "        \n",
    "        # Copy the output buffer to the final output buffer\n",
    "        output_buffer_final[start_idx:end_idx] = output_buffer[:end_idx - start_idx]\n",
    "        \n",
    "        # Free the input and output buffers for the current chunk\n",
    "        input_buffer.freebuffer()\n",
    "        output_buffer.freebuffer()\n",
    "\n",
    "    # Convert output_buffer_final back to image (adjust as per your design)\n",
    "    output_img = PILImage.frombytes('RGB', (128 , 128), bytes(output_buffer_final)) #change mode and size for each image\n",
    "    \n",
    "    # Display processed image\n",
    "    display(output_img)\n",
    "    \n",
    "    # Free the final output buffer\n",
    "    output_buffer_final.freebuffer()\n",
    "\n",
    "# Attach the handle_upload function to the file_upload widget\n",
    "file_upload.observe(handle_upload, names='value')\n",
    "\n",
    "# Display the file upload widget\n",
    "display(file_upload)\n"
   ]
  },
  {
   "cell_type": "code",
   "execution_count": null,
   "id": "4d7765de",
   "metadata": {},
   "outputs": [],
   "source": []
  }
 ],
 "metadata": {
  "celltoolbar": "Edit Metadata",
  "kernelspec": {
   "display_name": "Python 3 (ipykernel)",
   "language": "python",
   "name": "python3"
  },
  "language_info": {
   "codemirror_mode": {
    "name": "ipython",
    "version": 3
   },
   "file_extension": ".py",
   "mimetype": "text/x-python",
   "name": "python",
   "nbconvert_exporter": "python",
   "pygments_lexer": "ipython3",
   "version": "3.10.4"
  }
 },
 "nbformat": 4,
 "nbformat_minor": 5
}
