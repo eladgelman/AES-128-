{
 "cells": [
  {
   "cell_type": "markdown",
   "id": "eaa940ed",
   "metadata": {},
   "source": [
    "# Generate Text Files for Testing\n",
    "\n",
    "This notebook demonstrates how to generate text files with and without a Byte Order Mark (BOM)."
   ]
  },
  {
   "cell_type": "code",
   "execution_count": 3,
   "id": "16c34e0c-b346-45a3-b7fc-d6f902265df7",
   "metadata": {
    "slideshow": {
     "slide_type": ""
    },
    "tags": []
   },
   "outputs": [
    {
     "name": "stdout",
     "output_type": "stream",
     "text": [
      "Generated a text file with 3973 characters at Test_Files/test6.txt.\n"
     ]
    }
   ],
   "source": [
    "import random\n",
    "import os\n",
    "\n",
    "# Predefined list of common English words\n",
    "word_list = [\n",
    "    'the', 'and', 'to', 'of', 'a', 'in', 'that', 'is', 'it', 'with', 'as', 'for', \n",
    "    'was', 'on', 'are', 'this', 'by', 'an', 'be', 'or', 'which', 'from', 'at', \n",
    "    'but', 'not', 'we', 'can', 'has', 'have', 'you', 'he', 'she', 'they', 'will', \n",
    "    'one', 'all', 'their', 'there', 'what', 'so', 'when', 'up', 'out', 'if', \n",
    "    'about', 'who', 'get', 'me', 'my', 'your', 'just', 'like', 'no', 'him', \n",
    "    'her', 'them', 'our', 'more', 'do', 'would', 'been', 'now', 'some', 'only', \n",
    "    'could', 'than', 'into', 'its', 'over', 'also', 'after', 'where', 'first', \n",
    "    'any', 'new', 'time', 'we', 'say', 'how', 'go', 'see', 'know', 'way', \n",
    "    'because', 'make', 'back', 'come', 'last', 'year', 'did', 'use', 'good', \n",
    "    'very', 'even', 'down', 'take', 'well', 'much', 'want', 'need', 'himself', \n",
    "    'herself', 'before', 'through', 'right', 'long', 'same', 'many', 'such', \n",
    "    'still', 'own', 'here', 'should', 'these', 'those', 'each', 'thing', \n",
    "    'people', 'look', 'day', 'great', 'think', 'help', 'too', 'might', 'find', \n",
    "    'most', 'between', 'feel', 'seem', 'always', 'never', 'better', 'best', \n",
    "    'little', 'world', 'life', 'tell', 'let', 'try', 'mean', 'give', 'work', \n",
    "    'talk', 'follow', 'show', 'set', 'next', 'part', 'different', 'small', \n",
    "    'large', 'big', 'ask', 'during', 'begin', 'while', 'end', 'once', 'anything', \n",
    "    'everything', 'every', 'much', 'long', 'far', 'look', 'new', 'old', \n",
    "    'high', 'low', 'near', 'other', 'another', 'sure', 'thing', 'another'\n",
    "]\n",
    "\n",
    "# Define the number of characters\n",
    "num_chars = 2**12-123 \n",
    "\n",
    "# Randomly select words and concatenate them\n",
    "random_text = ''\n",
    "while len(random_text) < num_chars:\n",
    "    word = random.choice(word_list)\n",
    "    if len(random_text) + len(word) + 1 <= num_chars:  # +1 for the space\n",
    "        random_text += word + ' '\n",
    "    else:\n",
    "        break\n",
    "\n",
    "# Truncate to the exact number of characters\n",
    "random_text = random_text[:num_chars]\n",
    "\n",
    "# Ensure the output directory exists\n",
    "output_dir = 'Test_Files'\n",
    "os.makedirs(output_dir, exist_ok=True)\n",
    "\n",
    "# Write to a text file\n",
    "output_file_path = os.path.join(output_dir, 'test6.txt')\n",
    "with open(output_file_path, 'w') as f:\n",
    "    f.write(random_text)\n",
    "\n",
    "print(f\"Generated a text file with {num_chars} characters at {output_file_path}.\")\n",
    "\n"
   ]
  },
  {
   "cell_type": "code",
   "execution_count": 4,
   "id": "8bfecba3-b2d0-49e6-8494-b841c794fc1d",
   "metadata": {},
   "outputs": [
    {
     "name": "stdout",
     "output_type": "stream",
     "text": [
      "Generated a text file with 65459 characters at Test_Files/test7_bom.txt.\n"
     ]
    }
   ],
   "source": [
    "import random\n",
    "import os \n",
    "\n",
    "# Predefined list of common English words\n",
    "word_list = [\n",
    "    'the', 'and', 'to', 'of', 'a', 'in', 'that', 'is', 'it', 'with', 'as', 'for', \n",
    "    'was', 'on', 'are', 'this', 'by', 'an', 'be', 'or', 'which', 'from', 'at', \n",
    "    'but', 'not', 'we', 'can', 'has', 'have', 'you', 'he', 'she', 'they', 'will', \n",
    "    'one', 'all', 'their', 'there', 'what', 'so', 'when', 'up', 'out', 'if', \n",
    "    'about', 'who', 'get', 'me', 'my', 'your', 'just', 'like', 'no', 'him', \n",
    "    'her', 'them', 'our', 'more', 'do', 'would', 'been', 'now', 'some', 'only', \n",
    "    'could', 'than', 'into', 'its', 'over', 'also', 'after', 'where', 'first', \n",
    "    'any', 'new', 'time', 'we', 'say', 'how', 'go', 'see', 'know', 'way', \n",
    "    'because', 'make', 'back', 'come', 'last', 'year', 'did', 'use', 'good', \n",
    "    'very', 'even', 'down', 'take', 'well', 'much', 'want', 'need', 'himself', \n",
    "    'herself', 'before', 'through', 'right', 'long', 'same', 'many', 'such', \n",
    "    'still', 'own', 'here', 'should', 'these', 'those', 'each', 'thing', \n",
    "    'people', 'look', 'day', 'great', 'think', 'help', 'too', 'might', 'find', \n",
    "    'most', 'between', 'feel', 'seem', 'always', 'never', 'better', 'best', \n",
    "    'little', 'world', 'life', 'tell', 'let', 'try', 'mean', 'give', 'work', \n",
    "    'talk', 'follow', 'show', 'set', 'next', 'part', 'different', 'small', \n",
    "    'large', 'big', 'ask', 'during', 'begin', 'while', 'end', 'once', 'anything', \n",
    "    'everything', 'every', 'much', 'long', 'far', 'look', 'new', 'old', \n",
    "    'high', 'low', 'near', 'other', 'another', 'sure', 'thing', 'another'\n",
    "]\n",
    "\n",
    "# Define the number of characters\n",
    "num_chars = 2**16-77\n",
    "\n",
    "# Randomly select words and concatenate them\n",
    "random_text = ''\n",
    "while len(random_text) < num_chars:\n",
    "    word = random.choice(word_list)\n",
    "    if len(random_text) + len(word) + 1 <= num_chars:  # +1 for the space\n",
    "        random_text += word + ' '\n",
    "    else:\n",
    "        break\n",
    "\n",
    "# Truncate to the exact number of characters\n",
    "random_text = random_text[:num_chars]\n",
    "\n",
    "# Ensure the output directory exists\n",
    "output_dir = 'Test_Files'\n",
    "os.makedirs(output_dir, exist_ok=True)\n",
    "\n",
    "# Write to a text file with UTF-8 BOM\n",
    "output_file_path = os.path.join(output_dir, 'test7_bom.txt')\n",
    "with open(output_file_path, 'w', encoding='utf-8-sig') as f:\n",
    "    f.write(random_text)\n",
    "\n",
    "print(f\"Generated a text file with {num_chars} characters at {output_file_path}.\")"
   ]
  },
  {
   "cell_type": "code",
   "execution_count": null,
   "id": "f378532d-52cf-46b4-803b-737aeaf03311",
   "metadata": {},
   "outputs": [],
   "source": []
  }
 ],
 "metadata": {
  "kernelspec": {
   "display_name": "Python 3 (ipykernel)",
   "language": "python",
   "name": "python3"
  },
  "language_info": {
   "codemirror_mode": {
    "name": "ipython",
    "version": 3
   },
   "file_extension": ".py",
   "mimetype": "text/x-python",
   "name": "python",
   "nbconvert_exporter": "python",
   "pygments_lexer": "ipython3",
   "version": "3.10.4"
  }
 },
 "nbformat": 4,
 "nbformat_minor": 5
}
